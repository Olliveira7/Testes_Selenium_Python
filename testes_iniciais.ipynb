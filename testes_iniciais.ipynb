{
  "nbformat": 4,
  "nbformat_minor": 0,
  "metadata": {
    "colab": {
      "name": "testes_iniciais.ipynb",
      "provenance": [],
      "collapsed_sections": [
        "yszkvawzUm3Y"
      ],
      "authorship_tag": "ABX9TyNo/7zGb7PAhDjfigXrPWFt",
      "include_colab_link": true
    },
    "kernelspec": {
      "name": "python3",
      "display_name": "Python 3"
    }
  },
  "cells": [
    {
      "cell_type": "markdown",
      "metadata": {
        "id": "view-in-github",
        "colab_type": "text"
      },
      "source": [
        "<a href=\"https://colab.research.google.com/github/diegooliveira7/Testes_Selenium_Python/blob/master/testes_iniciais.ipynb\" target=\"_parent\"><img src=\"https://colab.research.google.com/assets/colab-badge.svg\" alt=\"Open In Colab\"/></a>"
      ]
    },
    {
      "cell_type": "code",
      "metadata": {
        "colab": {
          "base_uri": "https://localhost:8080/"
        },
        "id": "7KUr_zHjSdNE",
        "outputId": "da5c2960-afc9-4df5-f0e7-f4b19a158ace"
      },
      "source": [
        "print('olá mundo')"
      ],
      "execution_count": 1,
      "outputs": [
        {
          "output_type": "stream",
          "text": [
            "olá mundo\n"
          ],
          "name": "stdout"
        }
      ]
    },
    {
      "cell_type": "code",
      "metadata": {
        "id": "1_kyLNO5To8J"
      },
      "source": [
        "var1 = 5 #variáveis escaláres\r\n",
        "var2 = 4"
      ],
      "execution_count": 2,
      "outputs": []
    },
    {
      "cell_type": "code",
      "metadata": {
        "colab": {
          "base_uri": "https://localhost:8080/"
        },
        "id": "KJJ31eqLT01o",
        "outputId": "df1b647e-e49c-4818-8493-1ab834d932b4"
      },
      "source": [
        "print(var2)"
      ],
      "execution_count": 4,
      "outputs": [
        {
          "output_type": "stream",
          "text": [
            "4\n"
          ],
          "name": "stdout"
        }
      ]
    },
    {
      "cell_type": "markdown",
      "metadata": {
        "id": "Q8ZvH1WsVmar"
      },
      "source": [
        "#Lista - Conjunto"
      ]
    },
    {
      "cell_type": "code",
      "metadata": {
        "id": "qBaxnvnPT7_D"
      },
      "source": [
        "var3 = [1,2,3,4,5,6] #lista - [lista] A lista é dinamica, pode entrar ou sair valores\r\n",
        "var4 = (1,2,3,4,5,6) #conjunto - [Set] O conjunto é estático"
      ],
      "execution_count": 29,
      "outputs": []
    },
    {
      "cell_type": "code",
      "metadata": {
        "colab": {
          "base_uri": "https://localhost:8080/"
        },
        "id": "fzqGqBmqUe4Y",
        "outputId": "367cf638-ae5f-42ab-d633-307e7ba5b342"
      },
      "source": [
        "print(var3)"
      ],
      "execution_count": 30,
      "outputs": [
        {
          "output_type": "stream",
          "text": [
            "[1, 2, 3, 4, 5, 6]\n"
          ],
          "name": "stdout"
        }
      ]
    },
    {
      "cell_type": "code",
      "metadata": {
        "colab": {
          "base_uri": "https://localhost:8080/"
        },
        "id": "x3XejXrreneR",
        "outputId": "0aed28b4-7984-4d11-9da9-a67b6ddc9607"
      },
      "source": [
        "print(var4[1])"
      ],
      "execution_count": 31,
      "outputs": [
        {
          "output_type": "stream",
          "text": [
            "2\n"
          ],
          "name": "stdout"
        }
      ]
    },
    {
      "cell_type": "markdown",
      "metadata": {
        "id": "yszkvawzUm3Y"
      },
      "source": [
        "#Variáveis discionário"
      ]
    },
    {
      "cell_type": "code",
      "metadata": {
        "id": "9TdK7iYUUkk4"
      },
      "source": [
        "var5 = {'a':1, 'b':2, 'c': 3} # {chave : valor} - Não pode haver chaves repetidas!!!"
      ],
      "execution_count": 9,
      "outputs": []
    },
    {
      "cell_type": "code",
      "metadata": {
        "colab": {
          "base_uri": "https://localhost:8080/"
        },
        "id": "ps6_w99mVauE",
        "outputId": "291a2791-fe89-4922-c730-12e3e35e9155"
      },
      "source": [
        "print(var5)"
      ],
      "execution_count": 10,
      "outputs": [
        {
          "output_type": "stream",
          "text": [
            "{'a': 1, 'b': 2, 'c': 3}\n"
          ],
          "name": "stdout"
        }
      ]
    },
    {
      "cell_type": "code",
      "metadata": {
        "colab": {
          "base_uri": "https://localhost:8080/"
        },
        "id": "xpKuYwNTeC7V",
        "outputId": "24bb6953-e5cc-486a-defc-d47bf9569e8d"
      },
      "source": [
        "print(var5['c'])\r\n",
        "\r\n",
        "#A chave é sempre um escalar, mas o valor pode ser qualquer tipo"
      ],
      "execution_count": 28,
      "outputs": [
        {
          "output_type": "stream",
          "text": [
            "3\n"
          ],
          "name": "stdout"
        }
      ]
    },
    {
      "cell_type": "markdown",
      "metadata": {
        "id": "zGQD0nSIV-fZ"
      },
      "source": [
        "#Métodos"
      ]
    },
    {
      "cell_type": "code",
      "metadata": {
        "id": "qVUHUv_UV9ja"
      },
      "source": [
        "def metodo(a,b):#dess forma eu não específico o tipo de entrada dos métodos\r\n",
        "  return a + b"
      ],
      "execution_count": 11,
      "outputs": []
    },
    {
      "cell_type": "code",
      "metadata": {
        "colab": {
          "base_uri": "https://localhost:8080/"
        },
        "id": "gEw9LBT6WLLD",
        "outputId": "9b2a0862-8851-4ae5-f87d-bd41384fe18a"
      },
      "source": [
        "metodo(3,5)"
      ],
      "execution_count": 12,
      "outputs": [
        {
          "output_type": "execute_result",
          "data": {
            "text/plain": [
              "8"
            ]
          },
          "metadata": {
            "tags": []
          },
          "execution_count": 12
        }
      ]
    },
    {
      "cell_type": "code",
      "metadata": {
        "id": "lNQVWxs_WgC0"
      },
      "source": [
        "def metodo2(a: int, b: int)://Nesse caso eu estou específiando o tipo de entrada\r\n",
        "  return a + b"
      ],
      "execution_count": 13,
      "outputs": []
    },
    {
      "cell_type": "code",
      "metadata": {
        "colab": {
          "base_uri": "https://localhost:8080/"
        },
        "id": "knMjPS-EWtIx",
        "outputId": "1dc86383-d0c3-49f6-e41a-151048ebaa96"
      },
      "source": [
        "metodo(3, 6)"
      ],
      "execution_count": 14,
      "outputs": [
        {
          "output_type": "execute_result",
          "data": {
            "text/plain": [
              "9"
            ]
          },
          "metadata": {
            "tags": []
          },
          "execution_count": 14
        }
      ]
    },
    {
      "cell_type": "markdown",
      "metadata": {
        "id": "Ytp3VJw1XBSK"
      },
      "source": [
        "#Estruturas de Decisão - IF"
      ]
    },
    {
      "cell_type": "code",
      "metadata": {
        "colab": {
          "base_uri": "https://localhost:8080/"
        },
        "id": "tkInIZI9XFYN",
        "outputId": "7ea43018-53e1-4a4c-dbd9-857548f19fb4"
      },
      "source": [
        "a = 1\r\n",
        "b = 2\r\n",
        "\r\n",
        "if a > b: \r\n",
        "  print('maior')\r\n",
        "elif a == b:\r\n",
        "  print('igual')\r\n",
        "else:\r\n",
        "  print('menor')"
      ],
      "execution_count": 15,
      "outputs": [
        {
          "output_type": "stream",
          "text": [
            "menor\n"
          ],
          "name": "stdout"
        }
      ]
    },
    {
      "cell_type": "markdown",
      "metadata": {
        "id": "g8Lvn_ADXtlj"
      },
      "source": [
        "#Estrutura de Repetição"
      ]
    },
    {
      "cell_type": "markdown",
      "metadata": {
        "id": "iW6dwmneX2y7"
      },
      "source": [
        "##For"
      ]
    },
    {
      "cell_type": "code",
      "metadata": {
        "colab": {
          "base_uri": "https://localhost:8080/"
        },
        "id": "9elGos1dX0X7",
        "outputId": "403c5bd4-19f5-4259-e8fb-cd03210860f6"
      },
      "source": [
        "#range é um método que gera listas \r\n",
        "#range(valor_final)\r\n",
        "#range(valor_inicial, valor_final)\r\n",
        "#range(valor_inical, valor_final, passo)\r\n",
        "\r\n",
        "for x in range(0,20,2): #for variável in lista\r\n",
        "  print(x)"
      ],
      "execution_count": 19,
      "outputs": [
        {
          "output_type": "stream",
          "text": [
            "0\n",
            "2\n",
            "4\n",
            "6\n",
            "8\n",
            "10\n",
            "12\n",
            "14\n",
            "16\n",
            "18\n"
          ],
          "name": "stdout"
        }
      ]
    },
    {
      "cell_type": "code",
      "metadata": {
        "colab": {
          "base_uri": "https://localhost:8080/"
        },
        "id": "gWRNJwwPdOqG",
        "outputId": "b146649f-546d-4caa-a2e2-00777f1adf3a"
      },
      "source": [
        "dicionario = {'a':1, 'b':2, 'c': 3} # Mostra somente a chave\r\n",
        "\r\n",
        "for x in dicionario:\r\n",
        "  print(x)"
      ],
      "execution_count": 25,
      "outputs": [
        {
          "output_type": "stream",
          "text": [
            "a\n",
            "b\n",
            "c\n"
          ],
          "name": "stdout"
        }
      ]
    },
    {
      "cell_type": "code",
      "metadata": {
        "colab": {
          "base_uri": "https://localhost:8080/"
        },
        "id": "XXUIP52Pdsce",
        "outputId": "23843531-4ab7-450d-b26f-b969a4400073"
      },
      "source": [
        "for x in dicionario.values():\r\n",
        "  print(x)"
      ],
      "execution_count": 26,
      "outputs": [
        {
          "output_type": "stream",
          "text": [
            "1\n",
            "2\n",
            "3\n"
          ],
          "name": "stdout"
        }
      ]
    },
    {
      "cell_type": "markdown",
      "metadata": {
        "id": "Rmyoq5iOY6Rd"
      },
      "source": [
        "##While"
      ]
    },
    {
      "cell_type": "code",
      "metadata": {
        "colab": {
          "base_uri": "https://localhost:8080/"
        },
        "id": "7-IflqafZBKu",
        "outputId": "c416887d-7ff5-4d6b-a2bb-f6fe7b050ea2"
      },
      "source": [
        "a = 1\r\n",
        "\r\n",
        "while a < 10:\r\n",
        "  a += 1\r\n",
        "  print(a)"
      ],
      "execution_count": 24,
      "outputs": [
        {
          "output_type": "stream",
          "text": [
            "2\n",
            "3\n",
            "4\n",
            "5\n",
            "6\n",
            "7\n",
            "8\n",
            "9\n",
            "10\n"
          ],
          "name": "stdout"
        }
      ]
    }
  ]
}